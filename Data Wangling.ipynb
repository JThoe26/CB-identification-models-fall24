{
 "cells": [
  {
   "cell_type": "markdown",
   "id": "afa8b240",
   "metadata": {},
   "source": [
    "# Parsing Social Media API's into CSV's"
   ]
  },
  {
   "cell_type": "markdown",
   "id": "cea4fca3",
   "metadata": {},
   "source": [
    "### General: "
   ]
  },
  {
   "cell_type": "code",
   "execution_count": 2,
   "id": "090a5e14",
   "metadata": {},
   "outputs": [],
   "source": [
    "# Pandas is a software library written for the Python programming language for data manipulation and analysis.\n",
    "import pandas as pd\n",
    "# NumPy is a library for the Python programming language, adding support for large, multi-dimensional arrays and matrices, along with a large collection of high-level mathematical functions to operate on these arrays\n",
    "import numpy as np\n",
    "\n",
    "import re\n"
   ]
  },
  {
   "cell_type": "code",
   "execution_count": 37,
   "id": "8c8c0b83",
   "metadata": {},
   "outputs": [
    {
     "name": "stdout",
     "output_type": "stream",
     "text": [
      "Labeled comments saved to labeled_comments.csv\n"
     ]
    },
    {
     "data": {
      "text/html": [
       "<div>\n",
       "<style scoped>\n",
       "    .dataframe tbody tr th:only-of-type {\n",
       "        vertical-align: middle;\n",
       "    }\n",
       "\n",
       "    .dataframe tbody tr th {\n",
       "        vertical-align: top;\n",
       "    }\n",
       "\n",
       "    .dataframe thead th {\n",
       "        text-align: right;\n",
       "    }\n",
       "</style>\n",
       "<table border=\"1\" class=\"dataframe\">\n",
       "  <thead>\n",
       "    <tr style=\"text-align: right;\">\n",
       "      <th></th>\n",
       "      <th>Comment</th>\n",
       "      <th>Label</th>\n",
       "    </tr>\n",
       "  </thead>\n",
       "  <tbody>\n",
       "    <tr>\n",
       "      <th>0</th>\n",
       "      <td>This might be the most iconic video of 2023</td>\n",
       "      <td>Not Cyberbullying</td>\n",
       "    </tr>\n",
       "    <tr>\n",
       "      <th>1</th>\n",
       "      <td>Hey gurl i know you made mistakes gurl but its ok gurl i forgive you because i know that if i made a mistake i would want to be forgiven so gurl i want you to know that Jesus really loves you and that you can come to him as you already are and he can help us all oki love ya gurl for always being funny you have an incredible talent I just want you to know that Jesus cares for you and He wants to get to know u ok</td>\n",
       "      <td>Not Cyberbullying</td>\n",
       "    </tr>\n",
       "    <tr>\n",
       "      <th>2</th>\n",
       "      <td>Listen Ive been a fan since miranda sings and I didnt catch that till lateat least you tried to keep contact with your fansIll take a pair of your underwear anyday lmao  I dont believe youre one bit racist or a part of the pedophile machine that runs America  Stay strong lady seriously I dont understand what it is to be famous and lose so many fans over some stupid shit Im sorry you had to suffer this ridiculous mess And theyll find someone new to tear apart and Ill applaud your come back too</td>\n",
       "      <td>Cyberbullying</td>\n",
       "    </tr>\n",
       "    <tr>\n",
       "      <th>3</th>\n",
       "      <td>Guys YN she is a comedian its her job to make videos like this and try r thing with her sending stuff to fans shes a comedian and like tf is she supposed to do idc what the internet is were all humans and if she did do bad stuff its in the future everyone makes mistakes and although people make bigger ones Its sad to think of people who see her that way bc I still love Colleen</td>\n",
       "      <td>Not Cyberbullying</td>\n",
       "    </tr>\n",
       "    <tr>\n",
       "      <th>4</th>\n",
       "      <td>Like this if your watching in 2024</td>\n",
       "      <td>Not Cyberbullying</td>\n",
       "    </tr>\n",
       "  </tbody>\n",
       "</table>\n",
       "</div>"
      ],
      "text/plain": [
       "                                                                                                                                                                                                                                                                                                                                                                                                                                                                                                             Comment  \\\n",
       "0                                                                                                                                                                                                                                                                                                                                                                                                                                                                        This might be the most iconic video of 2023   \n",
       "1                                                                                     Hey gurl i know you made mistakes gurl but its ok gurl i forgive you because i know that if i made a mistake i would want to be forgiven so gurl i want you to know that Jesus really loves you and that you can come to him as you already are and he can help us all oki love ya gurl for always being funny you have an incredible talent I just want you to know that Jesus cares for you and He wants to get to know u ok   \n",
       "2  Listen Ive been a fan since miranda sings and I didnt catch that till lateat least you tried to keep contact with your fansIll take a pair of your underwear anyday lmao  I dont believe youre one bit racist or a part of the pedophile machine that runs America  Stay strong lady seriously I dont understand what it is to be famous and lose so many fans over some stupid shit Im sorry you had to suffer this ridiculous mess And theyll find someone new to tear apart and Ill applaud your come back too   \n",
       "3                                                                                                                        Guys YN she is a comedian its her job to make videos like this and try r thing with her sending stuff to fans shes a comedian and like tf is she supposed to do idc what the internet is were all humans and if she did do bad stuff its in the future everyone makes mistakes and although people make bigger ones Its sad to think of people who see her that way bc I still love Colleen   \n",
       "4                                                                                                                                                                                                                                                                                                                                                                                                                                                                                 Like this if your watching in 2024   \n",
       "\n",
       "               Label  \n",
       "0  Not Cyberbullying  \n",
       "1  Not Cyberbullying  \n",
       "2      Cyberbullying  \n",
       "3  Not Cyberbullying  \n",
       "4  Not Cyberbullying  "
      ]
     },
     "execution_count": 37,
     "metadata": {},
     "output_type": "execute_result"
    }
   ],
   "source": [
    "def remove_special_characters(text):\n",
    "    \"\"\"\n",
    "    Remove all special characters from the given text.\n",
    "    :param text: The input text string.\n",
    "    :return: Cleaned text string with only alphanumeric characters and spaces.\n",
    "    \"\"\"\n",
    "    if isinstance(text, str):  # Check if the input is a string\n",
    "        text = text.replace(\"&#39;\", \"'\").replace(\"�\", \"\")\n",
    "        cleaned_text = re.sub(r'[^A-Za-z0-9\\s]+', '', text)\n",
    "        return cleaned_text\n",
    "    return '' \n"
   ]
  },
  {
   "cell_type": "code",
   "execution_count": null,
   "id": "28d2c9bd",
   "metadata": {},
   "outputs": [],
   "source": [
    "\n",
    "# List of cyberbullying keywords (can be expanded)\n",
    "cyberbullying_keywords = [\n",
    "    \"loser\", \"idiot\", \"stupid\", \"ugly\", \"kill\", \"dumb\", \"hate\", \"trash\", \n",
    "    \"fat\", \"moron\", \"freak\", \"retard\", \"bitch\"\n",
    "]\n",
    "\n",
    "# Text speak dictionary to expand common abbreviations\n",
    "text_speak_dict = {\n",
    "    \"u\": \"you\",\n",
    "    \"ur\": \"your\",\n",
    "    \"lol\": \"laugh out loud\",\n",
    "    \"omg\": \"oh my god\",\n",
    "    \"lmao\": \"laughing my ass off\",\n",
    "    \"rofl\": \"rolling on the floor laughing\",\n",
    "    \"btw\": \"by the way\",\n",
    "    \"tbh\": \"to be honest\",\n",
    "    \"idk\": \"i don't know\",\n",
    "    \"smh\": \"shaking my head\",\n",
    "    \"gr8\": \"great\",\n",
    "    \"wtf\": \"what the f***\",\n",
    "    \"imo\": \"in my opinion\",\n",
    "    \"fml\": \"f*** my life\"\n",
    "    # Add more as needed\n",
    "}\n"
   ]
  },
  {
   "cell_type": "code",
   "execution_count": null,
   "id": "2965ebb3",
   "metadata": {},
   "outputs": [],
   "source": [
    "\n",
    "# Function to expand text speak using regex\n",
    "def expand_text_speak(text):\n",
    "    \"\"\"\n",
    "    Replace text speak abbreviations with their full forms using regex.\n",
    "    :param text: The input text string.\n",
    "    :return: Text with expanded abbreviations.\n",
    "    \"\"\"\n",
    "    if isinstance(text, str):  # Check if the input is a string\n",
    "        # Replace each text speak abbreviation using the dictionary\n",
    "        for abbrev, full_form in text_speak_dict.items():\n",
    "            text = re.sub(rf'\\b{abbrev}\\b', full_form, text, flags=re.IGNORECASE)\n",
    "        return text\n",
    "    return ''\n"
   ]
  },
  {
   "cell_type": "code",
   "execution_count": null,
   "id": "a8a92721",
   "metadata": {},
   "outputs": [],
   "source": [
    "\n",
    "# Function to label comments as \"Cyberbullying\" or \"Not Cyberbullying\"\n",
    "def label_comment(text):\n",
    "    # Clean the text by removing special characters and expanding text speak\n",
    "    cleaned_text = remove_special_characters(text)\n",
    "    expanded_text = expand_text_speak(cleaned_text)\n",
    "    \n",
    "    # Check for any cyberbullying keywords in the expanded text\n",
    "    if any(keyword in expanded_text.lower() for keyword in cyberbullying_keywords):\n",
    "        return \"Cyberbullying\"\n",
    "    return \"Not Cyberbullying\"\n"
   ]
  },
  {
   "cell_type": "code",
   "execution_count": 67,
   "id": "b791ad67",
   "metadata": {},
   "outputs": [],
   "source": [
    "\n",
    "# Function to read comments from CSV, label them, and save to a new CSV\n",
    "def label_comments_from_csv(input_csv: str, output_csv: str):\n",
    "    \"\"\"\n",
    "    Read comments from a CSV, label them, and save the labeled data to a new CSV.\n",
    "    \n",
    "    :param input_csv: Path to the input CSV file containing comments.\n",
    "    :param output_csv: Path to the output CSV file for labeled comments.\n",
    "    \"\"\"\n",
    "    # Read the CSV file into a DataFrame\n",
    "    df = pd.read_csv(input_csv)\n",
    "\n",
    "    if df.empty:\n",
    "        raise ValueError(\"csv is empty\")\n",
    "    \n",
    "    df.columns = ['Comment']\n",
    "    # Apply labeling function to each comment\n",
    "    df['Label'] = df['Comment'].apply(label_comment)\n",
    "    df['Comment'] = df['Comment'].apply(remove_special_characters)\n",
    "    # Save the labeled data to a new CSV file\n",
    "    df.to_csv(output_csv, index=False)\n",
    "    print(f\"Labeled comments saved to {output_csv}\")\n"
   ]
  },
  {
   "cell_type": "code",
   "execution_count": 82,
   "id": "724327b2",
   "metadata": {},
   "outputs": [
    {
     "data": {
      "text/plain": [
       "count     105\n",
       "unique    103\n",
       "top          \n",
       "freq        3\n",
       "dtype: object"
      ]
     },
     "execution_count": 82,
     "metadata": {},
     "output_type": "execute_result"
    }
   ],
   "source": [
    "df_list = []\n",
    "csv_files = [\"data/CSVName.csv\", \"data/CSVName.csv\"]\n",
    "for file_path in csv_files:\n",
    "    df = pd.read_csv(file_path)  # Read the CSV file\n",
    "    df_list.append(df)  # Append the DataFrame to the list\n",
    "\n",
    "# Concatenate all DataFrames in the list into one DataFrame\n",
    "merged_df = pd.concat(df_list, ignore_index=True)\n",
    "df_t = merged_df.apply(lambda x: ' '.join(x.dropna().astype(str)), axis=1)\n",
    "df_t.to_csv('merged_output.csv', index=False)\n",
    "df_t.describe()"
   ]
  },
  {
   "cell_type": "code",
   "execution_count": 79,
   "id": "063534cb",
   "metadata": {},
   "outputs": [
    {
     "name": "stdout",
     "output_type": "stream",
     "text": [
      "Labeled comments saved to labeled_comments.csv\n"
     ]
    },
    {
     "data": {
      "text/html": [
       "<div>\n",
       "<style scoped>\n",
       "    .dataframe tbody tr th:only-of-type {\n",
       "        vertical-align: middle;\n",
       "    }\n",
       "\n",
       "    .dataframe tbody tr th {\n",
       "        vertical-align: top;\n",
       "    }\n",
       "\n",
       "    .dataframe thead th {\n",
       "        text-align: right;\n",
       "    }\n",
       "</style>\n",
       "<table border=\"1\" class=\"dataframe\">\n",
       "  <thead>\n",
       "    <tr style=\"text-align: right;\">\n",
       "      <th></th>\n",
       "      <th>Comment</th>\n",
       "      <th>Label</th>\n",
       "    </tr>\n",
       "  </thead>\n",
       "  <tbody>\n",
       "    <tr>\n",
       "      <th>100</th>\n",
       "      <td>Did you know that copper is iron because it isnt</td>\n",
       "      <td>Not Cyberbullying</td>\n",
       "    </tr>\n",
       "    <tr>\n",
       "      <th>101</th>\n",
       "      <td>I dont know who this girl is but did you guys know that Sherlock Holmes has been played by over 250 different actors over the span of the characters existence</td>\n",
       "      <td>Not Cyberbullying</td>\n",
       "    </tr>\n",
       "    <tr>\n",
       "      <th>102</th>\n",
       "      <td>Did you know like a good neighbor state farm is there</td>\n",
       "      <td>Not Cyberbullying</td>\n",
       "    </tr>\n",
       "    <tr>\n",
       "      <th>103</th>\n",
       "      <td>So cute</td>\n",
       "      <td>Not Cyberbullying</td>\n",
       "    </tr>\n",
       "    <tr>\n",
       "      <th>104</th>\n",
       "      <td>This cool and all butbrYour teeth are warm</td>\n",
       "      <td>Not Cyberbullying</td>\n",
       "    </tr>\n",
       "  </tbody>\n",
       "</table>\n",
       "</div>"
      ],
      "text/plain": [
       "                                                                                                                                                            Comment  \\\n",
       "100                                                                                                                Did you know that copper is iron because it isnt   \n",
       "101  I dont know who this girl is but did you guys know that Sherlock Holmes has been played by over 250 different actors over the span of the characters existence   \n",
       "102                                                                                                           Did you know like a good neighbor state farm is there   \n",
       "103                                                                                                                                                         So cute   \n",
       "104                                                                                                                      This cool and all butbrYour teeth are warm   \n",
       "\n",
       "                 Label  \n",
       "100  Not Cyberbullying  \n",
       "101  Not Cyberbullying  \n",
       "102  Not Cyberbullying  \n",
       "103  Not Cyberbullying  \n",
       "104  Not Cyberbullying  "
      ]
     },
     "execution_count": 79,
     "metadata": {},
     "output_type": "execute_result"
    }
   ],
   "source": [
    "input_csv_file = 'merged_output.csv'  # Path to your existing comments CSV\n",
    "output_csv_file = 'labeled_comments.csv'  # Path to save the labeled comments\n",
    "label_comments_from_csv(input_csv_file, output_csv_file)\n",
    "df = pd.read_csv(output_csv_file)\n",
    "df.head()"
   ]
  }
 ],
 "metadata": {
  "kernelspec": {
   "display_name": "Python 3",
   "language": "python",
   "name": "python3"
  },
  "language_info": {
   "codemirror_mode": {
    "name": "ipython",
    "version": 3
   },
   "file_extension": ".py",
   "mimetype": "text/x-python",
   "name": "python",
   "nbconvert_exporter": "python",
   "pygments_lexer": "ipython3",
   "version": "3.8.8"
  }
 },
 "nbformat": 4,
 "nbformat_minor": 5
}
