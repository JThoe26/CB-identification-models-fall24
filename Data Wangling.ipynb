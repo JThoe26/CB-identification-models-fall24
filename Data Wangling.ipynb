{
 "cells": [
  {
   "cell_type": "markdown",
   "id": "afa8b240",
   "metadata": {},
   "source": [
    "# Parsing Social Media API's into CSV's"
   ]
  },
  {
   "cell_type": "markdown",
   "id": "cea4fca3",
   "metadata": {},
   "source": [
    "### General: "
   ]
  },
  {
   "cell_type": "code",
   "execution_count": null,
   "id": "090a5e14",
   "metadata": {},
   "outputs": [],
   "source": [
    "# Requests allows us to make HTTP requests which we will use to get data from an API\n",
    "import requests\n",
    "# Pandas is a software library written for the Python programming language for data manipulation and analysis.\n",
    "import pandas as pd\n",
    "# NumPy is a library for the Python programming language, adding support for large, multi-dimensional arrays and matrices, along with a large collection of high-level mathematical functions to operate on these arrays\n",
    "import numpy as np\n",
    "# Datetime is a library that allows us to represent dates\n",
    "import datetime\n",
    "\n",
    "# Setting this option will print all collumns of a dataframe\n",
    "pd.set_option('display.max_columns', None)\n",
    "# Setting this option will print all of the data in a feature\n",
    "pd.set_option('display.max_colwidth', None)"
   ]
  },
  {
   "cell_type": "code",
   "execution_count": null,
   "id": "7a6887c9",
   "metadata": {},
   "outputs": [],
   "source": [
    "\"\"\"    \n",
    "    Takes the dataset and uses whatever column is input in the first set of empty '' to call the API\n",
    "    and append the data to the list.\n",
    "    The second set of quotes will be the url to the specific column in the api\n",
    "    The third set of quotes is the data you want from the api to be in that column\n",
    "    \n",
    "    Please Rename Method\n",
    "    A method will be needed for each column\n",
    "\"\"\"\n",
    "def getNameOfColumn(data):\n",
    "    for x in data['1']:\n",
    "           if x:\n",
    "            response = requests.get(\"2\"+str(x)).json()\n",
    "            NameOfColumn.append(response['3'])"
   ]
  },
  {
   "cell_type": "code",
   "execution_count": null,
   "id": "4fe2fe28",
   "metadata": {},
   "outputs": [],
   "source": [
    "# This will have the API url\n",
    "url = ''"
   ]
  },
  {
   "cell_type": "code",
   "execution_count": null,
   "id": "4cedd8dd",
   "metadata": {},
   "outputs": [],
   "source": [
    "response = requests.get(url)"
   ]
  },
  {
   "cell_type": "code",
   "execution_count": null,
   "id": "22d07df3",
   "metadata": {},
   "outputs": [],
   "source": [
    "# this will check that the request returned something, Should return 200\n",
    "response.status_code"
   ]
  },
  {
   "cell_type": "code",
   "execution_count": null,
   "id": "45ac7671",
   "metadata": {},
   "outputs": [],
   "source": [
    "# this will have the url to the API json\n",
    "static_json_url=''"
   ]
  },
  {
   "cell_type": "code",
   "execution_count": null,
   "id": "0310488e",
   "metadata": {},
   "outputs": [],
   "source": [
    "# Uses json_normalize meethod to convert the json result into a dataframe\n",
    "data = pd.json_normalize(response.json())"
   ]
  },
  {
   "cell_type": "code",
   "execution_count": null,
   "id": "c7d3cc1c",
   "metadata": {},
   "outputs": [],
   "source": [
    "# Get the head of a dataframe\n",
    "data.head()"
   ]
  },
  {
   "cell_type": "code",
   "execution_count": null,
   "id": "20eeda51",
   "metadata": {},
   "outputs": [],
   "source": [
    "# this will convert a dataframe to a csv\n",
    "df.to_csv('.csv', index=False)"
   ]
  },
  {
   "cell_type": "markdown",
   "id": "af2fe10a",
   "metadata": {},
   "source": [
    "### Twitter:"
   ]
  },
  {
   "cell_type": "code",
   "execution_count": null,
   "id": "7c43628b",
   "metadata": {},
   "outputs": [],
   "source": []
  }
 ],
 "metadata": {
  "kernelspec": {
   "display_name": "Python 3",
   "language": "python",
   "name": "python3"
  },
  "language_info": {
   "codemirror_mode": {
    "name": "ipython",
    "version": 3
   },
   "file_extension": ".py",
   "mimetype": "text/x-python",
   "name": "python",
   "nbconvert_exporter": "python",
   "pygments_lexer": "ipython3",
   "version": "3.8.8"
  }
 },
 "nbformat": 4,
 "nbformat_minor": 5
}
