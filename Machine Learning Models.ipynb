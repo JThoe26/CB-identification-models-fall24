{
 "cells": [
  {
   "cell_type": "markdown",
   "id": "de0bbf29",
   "metadata": {},
   "source": [
    "# Machine Learning Model Building"
   ]
  },
  {
   "cell_type": "code",
   "execution_count": 5,
   "id": "c16b5a8a",
   "metadata": {},
   "outputs": [],
   "source": [
    "# Load libraries\n",
    "import pandas\n",
    "from pandas import read_csv\n",
    "from pandas.plotting import scatter_matrix\n",
    "from matplotlib import pyplot as plt\n",
    "from sklearn.model_selection import train_test_split\n",
    "from sklearn.model_selection import cross_val_score\n",
    "from sklearn.model_selection import StratifiedKFold\n",
    "from sklearn.metrics import classification_report\n",
    "from sklearn.metrics import confusion_matrix\n",
    "from sklearn.metrics import accuracy_score\n",
    "from sklearn.linear_model import LogisticRegression\n",
    "from sklearn.tree import DecisionTreeClassifier\n",
    "from sklearn.neighbors import KNeighborsClassifier\n",
    "from sklearn.discriminant_analysis import LinearDiscriminantAnalysis\n",
    "from sklearn.naive_bayes import GaussianNB\n",
    "from sklearn.svm import SVC\n",
    "from sklearn.feature_selection import SelectKBest, f_classif\n",
    "from sklearn.ensemble import RandomForestClassifier\n",
    "from sklearn.preprocessing import StandardScaler, LabelEncoder\n",
    "from sklearn.feature_extraction.text import TfidfVectorizer\n",
    "from sklearn.pipeline import make_pipeline"
   ]
  },
  {
   "cell_type": "markdown",
   "id": "db167135",
   "metadata": {},
   "source": [
    "### Documentation Links and Explanations\n",
    "\n",
    "1. [**Pandas**](https://pandas.pydata.org/pandas-docs/stable/)  \n",
    "   Pandas is a powerful data manipulation and analysis library, particularly useful for handling structured data.\n",
    "   \n",
    "\n",
    "2. [**read_csv (Pandas)**](https://pandas.pydata.org/pandas-docs/stable/reference/api/pandas.read_csv.html)  \n",
    "   The `read_csv` function reads CSV (Comma-Separated Values) files into a DataFrame.  \n",
    "   \n",
    "\n",
    "3. [**scatter_matrix (Pandas)**](https://pandas.pydata.org/pandas-docs/stable/reference/api/pandas.plotting.scatter_matrix.html)  \n",
    "   `scatter_matrix` creates a matrix of scatter plots for visualizing relationships between variables.\n",
    "   \n",
    "\n",
    "4. [**Matplotlib**](https://matplotlib.org/stable/contents.html)  \n",
    "   Matplotlib is a plotting library for creating static, animated, and interactive visualizations in Python. \n",
    "   \n",
    "\n",
    "5. [**train_test_split (Scikit-learn)**](https://scikit-learn.org/stable/modules/generated/sklearn.model_selection.train_test_split.html)  \n",
    "   The `train_test_split` function splits datasets into training and testing sets.\n",
    "   \n",
    "   \n",
    "\n",
    "6. [**cross_val_score (Scikit-learn)**](https://scikit-learn.org/stable/modules/generated/sklearn.model_selection.cross_val_score.html)  \n",
    "   `cross_val_score` evaluates a model's performance using cross-validation.  \n",
    "   \n",
    "\n",
    "7. [**StratifiedKFold (Scikit-learn)**](https://scikit-learn.org/stable/modules/generated/sklearn.model_selection.StratifiedKFold.html)  \n",
    "   `StratifiedKFold` provides stratified splitting of data into training and test sets for cross-validation. \n",
    "   \n",
    "\n",
    "8. [**classification_report (Scikit-learn)**](https://scikit-learn.org/stable/modules/generated/sklearn.metrics.classification_report.html)  \n",
    "   `classification_report` generates a text report showing the main classification metrics.\n",
    "   \n",
    "\n",
    "9. [**confusion_matrix (Scikit-learn)**](https://scikit-learn.org/stable/modules/generated/sklearn.metrics.confusion_matrix.html)  \n",
    "   `confusion_matrix` is used to evaluate the accuracy of a classification by computing a confusion matrix.\n",
    "   \n",
    "\n",
    "10. [**accuracy_score (Scikit-learn)**](https://scikit-learn.org/stable/modules/generated/sklearn.metrics.accuracy_score.html)  \n",
    "    `accuracy_score` calculates the accuracy of a classification model.\n",
    "    \n",
    "\n",
    "11.[ **LogisticRegression (Scikit-learn)**](https://scikit-learn.org/stable/modules/generated/sklearn.linear_model.LogisticRegression.html)  \n",
    "    `LogisticRegression` models the relationship between a dependent variable and one or more independent variables using logistic regression.  \n",
    "    \n",
    "\n",
    "12. [**DecisionTreeClassifier (Scikit-learn)**](https://scikit-learn.org/stable/modules/generated/sklearn.tree.DecisionTreeClassifier.html)  \n",
    "    `DecisionTreeClassifier` creates decision trees for classification tasks.\n",
    "    \n",
    "    \n",
    "\n",
    "13. [**KNeighborsClassifier (Scikit-learn)**](https://scikit-learn.org/stable/modules/generated/sklearn.neighbors.KNeighborsClassifier.html)  \n",
    "    `KNeighborsClassifier` is an implementation of the k-nearest neighbors algorithm for classification.\n",
    "    \n",
    "\n",
    "14. [**LinearDiscriminantAnalysis (Scikit-learn)**](https://scikit-learn.org/stable/modules/generated/sklearn.discriminant_analysis.LinearDiscriminantAnalysis.html)  \n",
    "    `LinearDiscriminantAnalysis` is used for classification tasks by finding a linear combination of features that separates classes.  \n",
    "    \n",
    "\n",
    "15. [**GaussianNB (Scikit-learn)**](https://scikit-learn.org/stable/modules/generated/sklearn.naive_bayes.GaussianNB.html)  \n",
    "    `GaussianNB` implements the Gaussian Naive Bayes algorithm for classification tasks.  \n",
    "    \n",
    "\n",
    "16. [**SVC (Scikit-learn)**](https://scikit-learn.org/stable/modules/generated/sklearn.svm.SVC.html)  \n",
    "    `SVC` is an implementation of support vector machines for classification tasks.  \n",
    "    \n",
    "\n",
    "17. [**SelectKBest (Scikit-learn)**](https://scikit-learn.org/stable/modules/generated/sklearn.feature_selection.SelectKBest.html) & [**f_classif (Scikit-learn)**](https://scikit-learn.org/stable/modules/generated/sklearn.feature_selection.f_classif.html)  \n",
    "    `SelectKBest` selects the top k features based on statistical tests, and `f_classif` is a function used for ANOVA F-tests.\n",
    "    \n",
    "\n",
    "18. [**RandomForestClassifier (Scikit-learn)**](https://scikit-learn.org/stable/modules/generated/sklearn.ensemble.RandomForestClassifier.html)  \n",
    "    `RandomForestClassifier` creates a random forest, an ensemble of decision trees, for classification tasks.\n",
    "    \n",
    "\n",
    "19. [**StandardScaler (Scikit-learn)**](https://scikit-learn.org/stable/modules/generated/sklearn.preprocessing.StandardScaler.html) & [**LabelEncoder (Scikit-learn)**](https://scikit-learn.org/stable/modules/generated/sklearn.preprocessing.LabelEncoder.html)  \n",
    "    `StandardScaler` standardizes features, and `LabelEncoder` encodes categorical labels as integers."
   ]
  },
  {
   "cell_type": "markdown",
   "id": "cda09a04",
   "metadata": {},
   "source": [
    "### Making a model and testing accuracy (classification)"
   ]
  },
  {
   "cell_type": "code",
   "execution_count": 15,
   "id": "b5a66eaa",
   "metadata": {},
   "outputs": [
    {
     "name": "stdout",
     "output_type": "stream",
     "text": [
      "1.0\n",
      "[[26]]\n",
      "                   precision    recall  f1-score   support\n",
      "\n",
      "Not Cyberbullying       1.00      1.00      1.00        26\n",
      "\n",
      "         accuracy                           1.00        26\n",
      "        macro avg       1.00      1.00      1.00        26\n",
      "     weighted avg       1.00      1.00      1.00        26\n",
      "\n"
     ]
    }
   ],
   "source": [
    "# Split-out validation dataset\n",
    "dataset = read_csv(\"labeled_comments.csv\")\n",
    "dataset = dataset.dropna(subset=[dataset.columns[0]]) \n",
    "array = dataset.values\n",
    "X = array[:,0]\n",
    "y = array[:,1]\n",
    "X_train, X_validation, Y_train, Y_validation = train_test_split(X, y, test_size=0.25, random_state=42)\n",
    "# Make predictions on validation dataset\n",
    "\n",
    "model = make_pipeline(TfidfVectorizer(), SVC(gamma=\"auto\"))\n",
    "model.fit(X_train, Y_train)\n",
    "predictions = model.predict(X_validation)\n",
    "# Evaluate predictions\n",
    "print(accuracy_score(Y_validation, predictions))\n",
    "print(confusion_matrix(Y_validation, predictions))\n",
    "print(classification_report(Y_validation, predictions))"
   ]
  },
  {
   "cell_type": "code",
   "execution_count": 17,
   "id": "1636e807",
   "metadata": {},
   "outputs": [
    {
     "name": "stderr",
     "output_type": "stream",
     "text": [
      "c:\\Users\\21AhmedU\\Anaconda3\\lib\\site-packages\\sklearn\\model_selection\\_split.py:666: UserWarning: The least populated class in y has only 2 members, which is less than n_splits=10.\n",
      "  warnings.warn((\"The least populated class in y has only %d\"\n"
     ]
    },
    {
     "name": "stdout",
     "output_type": "stream",
     "text": [
      "LR: 0.975000 (0.050000)\n"
     ]
    },
    {
     "name": "stderr",
     "output_type": "stream",
     "text": [
      "c:\\Users\\21AhmedU\\Anaconda3\\lib\\site-packages\\sklearn\\model_selection\\_split.py:666: UserWarning: The least populated class in y has only 2 members, which is less than n_splits=10.\n",
      "  warnings.warn((\"The least populated class in y has only %d\"\n"
     ]
    },
    {
     "name": "stdout",
     "output_type": "stream",
     "text": [
      "KNN: 0.975000 (0.050000)\n"
     ]
    },
    {
     "name": "stderr",
     "output_type": "stream",
     "text": [
      "c:\\Users\\21AhmedU\\Anaconda3\\lib\\site-packages\\sklearn\\model_selection\\_split.py:666: UserWarning: The least populated class in y has only 2 members, which is less than n_splits=10.\n",
      "  warnings.warn((\"The least populated class in y has only %d\"\n"
     ]
    },
    {
     "name": "stdout",
     "output_type": "stream",
     "text": [
      "CART: 0.946429 (0.091752)\n"
     ]
    },
    {
     "name": "stderr",
     "output_type": "stream",
     "text": [
      "c:\\Users\\21AhmedU\\Anaconda3\\lib\\site-packages\\sklearn\\model_selection\\_split.py:666: UserWarning: The least populated class in y has only 2 members, which is less than n_splits=10.\n",
      "  warnings.warn((\"The least populated class in y has only %d\"\n"
     ]
    },
    {
     "name": "stdout",
     "output_type": "stream",
     "text": [
      "SVM: 0.975000 (0.050000)\n"
     ]
    }
   ],
   "source": [
    "# Spot Check Algorithms\n",
    "models = []\n",
    "models.append(('LR', LogisticRegression(solver='liblinear', multi_class='ovr')))\n",
    "#models.append(('LDA', LinearDiscriminantAnalysis()))\n",
    "models.append(('KNN', KNeighborsClassifier()))\n",
    "models.append(('CART', DecisionTreeClassifier()))\n",
    "#odels.append(('NB', GaussianNB()))\n",
    "models.append(('SVM', SVC(gamma='auto')))\n",
    "# evaluate each model in turn\n",
    "results = []\n",
    "names = []\n",
    "for name, model in models:\n",
    " kfold = StratifiedKFold(n_splits=10, random_state=1, shuffle=True)\n",
    " cv_results = cross_val_score(make_pipeline(TfidfVectorizer(),model), X_train, Y_train, cv=kfold, scoring='accuracy')\n",
    " results.append(cv_results)\n",
    " names.append(name)\n",
    " print('%s: %f (%f)' % (name, cv_results.mean(), cv_results.std()))"
   ]
  }
 ],
 "metadata": {
  "kernelspec": {
   "display_name": "Python 3",
   "language": "python",
   "name": "python3"
  },
  "language_info": {
   "codemirror_mode": {
    "name": "ipython",
    "version": 3
   },
   "file_extension": ".py",
   "mimetype": "text/x-python",
   "name": "python",
   "nbconvert_exporter": "python",
   "pygments_lexer": "ipython3",
   "version": "3.8.8"
  }
 },
 "nbformat": 4,
 "nbformat_minor": 5
}
