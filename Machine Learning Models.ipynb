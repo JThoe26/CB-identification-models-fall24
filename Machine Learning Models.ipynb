{
 "cells": [
  {
   "cell_type": "markdown",
   "id": "de0bbf29",
   "metadata": {},
   "source": [
    "# Machine Learning Model Building"
   ]
  },
  {
   "cell_type": "code",
   "execution_count": 2,
   "id": "c16b5a8a",
   "metadata": {},
   "outputs": [],
   "source": [
    "# Load libraries\n",
    "import pandas\n",
    "import seaborn as sns\n",
    "from pandas import read_csv\n",
    "from pandas.plotting import scatter_matrix\n",
    "from matplotlib import pyplot as plt\n",
    "from sklearn.model_selection import train_test_split\n",
    "from sklearn.model_selection import cross_val_score\n",
    "from sklearn.model_selection import StratifiedKFold\n",
    "from sklearn.metrics import classification_report\n",
    "from sklearn.metrics import confusion_matrix\n",
    "from sklearn.metrics import accuracy_score\n",
    "from sklearn.linear_model import LogisticRegression\n",
    "from sklearn.tree import DecisionTreeClassifier\n",
    "from sklearn.neighbors import KNeighborsClassifier\n",
    "from sklearn.discriminant_analysis import LinearDiscriminantAnalysis\n",
    "from sklearn.naive_bayes import GaussianNB\n",
    "from sklearn.svm import SVC\n",
    "from sklearn.ensemble import RandomForestClassifier\n",
    "from sklearn.preprocessing import StandardScaler, LabelEncoder\n",
    "from sklearn.feature_extraction.text import TfidfVectorizer\n",
    "from sklearn.pipeline import make_pipeline"
   ]
  },
  {
   "cell_type": "markdown",
   "id": "db167135",
   "metadata": {},
   "source": [
    "### Documentation Links and Explanations\n",
    "\n",
    "1. [**Pandas**](https://pandas.pydata.org/pandas-docs/stable/)  \n",
    "   Pandas is a powerful data manipulation and analysis library, particularly useful for handling structured data.\n",
    "   \n",
    "\n",
    "2. [**read_csv (Pandas)**](https://pandas.pydata.org/pandas-docs/stable/reference/api/pandas.read_csv.html)  \n",
    "   The `read_csv` function reads CSV (Comma-Separated Values) files into a DataFrame.  \n",
    "   \n",
    "\n",
    "3. [**scatter_matrix (Pandas)**](https://pandas.pydata.org/pandas-docs/stable/reference/api/pandas.plotting.scatter_matrix.html)  \n",
    "   `scatter_matrix` creates a matrix of scatter plots for visualizing relationships between variables.\n",
    "   \n",
    "\n",
    "4. [**Matplotlib**](https://matplotlib.org/stable/contents.html)  \n",
    "   Matplotlib is a plotting library for creating static, animated, and interactive visualizations in Python. \n",
    "   \n",
    "\n",
    "5. [**train_test_split (Scikit-learn)**](https://scikit-learn.org/stable/modules/generated/sklearn.model_selection.train_test_split.html)  \n",
    "   The `train_test_split` function splits datasets into training and testing sets.\n",
    "   \n",
    "   \n",
    "\n",
    "6. [**cross_val_score (Scikit-learn)**](https://scikit-learn.org/stable/modules/generated/sklearn.model_selection.cross_val_score.html)  \n",
    "   `cross_val_score` evaluates a model's performance using cross-validation.  \n",
    "   \n",
    "\n",
    "7. [**StratifiedKFold (Scikit-learn)**](https://scikit-learn.org/stable/modules/generated/sklearn.model_selection.StratifiedKFold.html)  \n",
    "   `StratifiedKFold` provides stratified splitting of data into training and test sets for cross-validation. \n",
    "   \n",
    "\n",
    "8. [**classification_report (Scikit-learn)**](https://scikit-learn.org/stable/modules/generated/sklearn.metrics.classification_report.html)  \n",
    "   `classification_report` generates a text report showing the main classification metrics.\n",
    "   \n",
    "\n",
    "9. [**confusion_matrix (Scikit-learn)**](https://scikit-learn.org/stable/modules/generated/sklearn.metrics.confusion_matrix.html)  \n",
    "   `confusion_matrix` is used to evaluate the accuracy of a classification by computing a confusion matrix.\n",
    "   \n",
    "\n",
    "10. [**accuracy_score (Scikit-learn)**](https://scikit-learn.org/stable/modules/generated/sklearn.metrics.accuracy_score.html)  \n",
    "    `accuracy_score` calculates the accuracy of a classification model.\n",
    "    \n",
    "\n",
    "11.[ **LogisticRegression (Scikit-learn)**](https://scikit-learn.org/stable/modules/generated/sklearn.linear_model.LogisticRegression.html)  \n",
    "    `LogisticRegression` models the relationship between a dependent variable and one or more independent variables using logistic regression.  \n",
    "    \n",
    "\n",
    "12. [**DecisionTreeClassifier (Scikit-learn)**](https://scikit-learn.org/stable/modules/generated/sklearn.tree.DecisionTreeClassifier.html)  \n",
    "    `DecisionTreeClassifier` creates decision trees for classification tasks.\n",
    "    \n",
    "    \n",
    "\n",
    "13. [**KNeighborsClassifier (Scikit-learn)**](https://scikit-learn.org/stable/modules/generated/sklearn.neighbors.KNeighborsClassifier.html)  \n",
    "    `KNeighborsClassifier` is an implementation of the k-nearest neighbors algorithm for classification.\n",
    "    \n",
    "\n",
    "14. [**LinearDiscriminantAnalysis (Scikit-learn)**](https://scikit-learn.org/stable/modules/generated/sklearn.discriminant_analysis.LinearDiscriminantAnalysis.html)  \n",
    "    `LinearDiscriminantAnalysis` is used for classification tasks by finding a linear combination of features that separates classes.  \n",
    "    \n",
    "\n",
    "15. [**GaussianNB (Scikit-learn)**](https://scikit-learn.org/stable/modules/generated/sklearn.naive_bayes.GaussianNB.html)  \n",
    "    `GaussianNB` implements the Gaussian Naive Bayes algorithm for classification tasks.  \n",
    "    \n",
    "\n",
    "16. [**SVC (Scikit-learn)**](https://scikit-learn.org/stable/modules/generated/sklearn.svm.SVC.html)  \n",
    "    `SVC` is an implementation of support vector machines for classification tasks.  \n",
    "    \n",
    "\n",
    "17. [**SelectKBest (Scikit-learn)**](https://scikit-learn.org/stable/modules/generated/sklearn.feature_selection.SelectKBest.html) & [**f_classif (Scikit-learn)**](https://scikit-learn.org/stable/modules/generated/sklearn.feature_selection.f_classif.html)  \n",
    "    `SelectKBest` selects the top k features based on statistical tests, and `f_classif` is a function used for ANOVA F-tests.\n",
    "    \n",
    "\n",
    "18. [**RandomForestClassifier (Scikit-learn)**](https://scikit-learn.org/stable/modules/generated/sklearn.ensemble.RandomForestClassifier.html)  \n",
    "    `RandomForestClassifier` creates a random forest, an ensemble of decision trees, for classification tasks.\n",
    "    \n",
    "\n",
    "19. [**StandardScaler (Scikit-learn)**](https://scikit-learn.org/stable/modules/generated/sklearn.preprocessing.StandardScaler.html) & [**LabelEncoder (Scikit-learn)**](https://scikit-learn.org/stable/modules/generated/sklearn.preprocessing.LabelEncoder.html)  \n",
    "    `StandardScaler` standardizes features, and `LabelEncoder` encodes categorical labels as integers."
   ]
  },
  {
   "cell_type": "markdown",
   "id": "cda09a04",
   "metadata": {},
   "source": [
    "### Making a model and testing accuracy (classification)"
   ]
  },
  {
   "cell_type": "code",
   "execution_count": 3,
   "id": "b5a66eaa",
   "metadata": {},
   "outputs": [
    {
     "data": {
      "text/html": [
       "<div>\n",
       "<style scoped>\n",
       "    .dataframe tbody tr th:only-of-type {\n",
       "        vertical-align: middle;\n",
       "    }\n",
       "\n",
       "    .dataframe tbody tr th {\n",
       "        vertical-align: top;\n",
       "    }\n",
       "\n",
       "    .dataframe thead th {\n",
       "        text-align: right;\n",
       "    }\n",
       "</style>\n",
       "<table border=\"1\" class=\"dataframe\">\n",
       "  <thead>\n",
       "    <tr style=\"text-align: right;\">\n",
       "      <th></th>\n",
       "      <th>Comment</th>\n",
       "      <th>Label</th>\n",
       "    </tr>\n",
       "  </thead>\n",
       "  <tbody>\n",
       "    <tr>\n",
       "      <th>0</th>\n",
       "      <td>they never told me I couldnt sing what in the ...</td>\n",
       "      <td>Neutral</td>\n",
       "    </tr>\n",
       "    <tr>\n",
       "      <th>1</th>\n",
       "      <td>THEY DIDNT SAY I COULDNT SIIINGGGGG kat from v...</td>\n",
       "      <td>Neutral</td>\n",
       "    </tr>\n",
       "    <tr>\n",
       "      <th>2</th>\n",
       "      <td>Youre very brave for having the comment sectio...</td>\n",
       "      <td>Not Cyberbullying</td>\n",
       "    </tr>\n",
       "    <tr>\n",
       "      <th>3</th>\n",
       "      <td>i didnt know what her response would be but i ...</td>\n",
       "      <td>Neutral</td>\n",
       "    </tr>\n",
       "    <tr>\n",
       "      <th>4</th>\n",
       "      <td>This is so insulting to the victims</td>\n",
       "      <td>Cyberbullying</td>\n",
       "    </tr>\n",
       "  </tbody>\n",
       "</table>\n",
       "</div>"
      ],
      "text/plain": [
       "                                             Comment              Label\n",
       "0  they never told me I couldnt sing what in the ...            Neutral\n",
       "1  THEY DIDNT SAY I COULDNT SIIINGGGGG kat from v...            Neutral\n",
       "2  Youre very brave for having the comment sectio...  Not Cyberbullying\n",
       "3  i didnt know what her response would be but i ...            Neutral\n",
       "4                This is so insulting to the victims      Cyberbullying"
      ]
     },
     "execution_count": 3,
     "metadata": {},
     "output_type": "execute_result"
    }
   ],
   "source": [
    "# Split-out validation dataset\n",
    "dataset = read_csv(\"data/labeled_comments.csv\")\n",
    "dataset = dataset.dropna(subset=[dataset.columns[0]]) \n",
    "dataset.head()"
   ]
  },
  {
   "cell_type": "code",
   "execution_count": 4,
   "id": "79a497d9",
   "metadata": {},
   "outputs": [
    {
     "data": {
      "text/plain": [
       "Not Cyberbullying    9077\n",
       "Neutral              8394\n",
       "Cyberbullying        8150\n",
       "Name: Label, dtype: int64"
      ]
     },
     "execution_count": 4,
     "metadata": {},
     "output_type": "execute_result"
    }
   ],
   "source": [
    "dataset[\"Label\"].value_counts()"
   ]
  },
  {
   "cell_type": "code",
   "execution_count": 14,
   "id": "7d313c91",
   "metadata": {},
   "outputs": [],
   "source": [
    "import warnings\n",
    "warnings.filterwarnings('ignore')\n",
    "X = dataset[\"Comment\"].astype(str)\n",
    "y = dataset[\"Label\"].astype(str)\n",
    "X_train, X_validation, Y_train, Y_validation = train_test_split(X, y, test_size=0.2, random_state=1)\n"
   ]
  },
  {
   "cell_type": "code",
   "execution_count": 14,
   "id": "e48c97df",
   "metadata": {},
   "outputs": [
    {
     "name": "stdout",
     "output_type": "stream",
     "text": [
      "0.3477073170731707\n",
      "[[   0    0 1675]\n",
      " [   0    0 1668]\n",
      " [   0    0 1782]]\n",
      "                   precision    recall  f1-score   support\n",
      "\n",
      "    Cyberbullying       0.00      0.00      0.00      1675\n",
      "          Neutral       0.00      0.00      0.00      1668\n",
      "Not Cyberbullying       0.35      1.00      0.52      1782\n",
      "\n",
      "         accuracy                           0.35      5125\n",
      "        macro avg       0.12      0.33      0.17      5125\n",
      "     weighted avg       0.12      0.35      0.18      5125\n",
      "\n"
     ]
    }
   ],
   "source": [
    "# Make predictions on validation dataset\n",
    "pipeline = make_pipeline(TfidfVectorizer(), SVC(gamma=\"auto\"))\n",
    "pipeline.fit(X_train, Y_train)\n",
    "predictions = pipeline.predict(X_validation)\n",
    "# Evaluate predictions\n",
    "print(accuracy_score(Y_validation, predictions))\n",
    "print(confusion_matrix(Y_validation, predictions))\n",
    "print(classification_report(Y_validation, predictions))"
   ]
  },
  {
   "cell_type": "code",
   "execution_count": 9,
   "id": "1636e807",
   "metadata": {},
   "outputs": [
    {
     "name": "stdout",
     "output_type": "stream",
     "text": [
      "LR: 0.806011 (0.006152)\n",
      "0.8111219512195122\n",
      "[[1237  204  234]\n",
      " [ 102 1473   93]\n",
      " [ 168  167 1447]]\n",
      "                   precision    recall  f1-score   support\n",
      "\n",
      "    Cyberbullying       0.82      0.74      0.78      1675\n",
      "          Neutral       0.80      0.88      0.84      1668\n",
      "Not Cyberbullying       0.82      0.81      0.81      1782\n",
      "\n",
      "         accuracy                           0.81      5125\n",
      "        macro avg       0.81      0.81      0.81      5125\n",
      "     weighted avg       0.81      0.81      0.81      5125\n",
      "\n",
      "KNN: 0.401737 (0.005652)\n",
      "0.40390243902439027\n",
      "[[ 216 1445   14]\n",
      " [  21 1629   18]\n",
      " [  15 1542  225]]\n",
      "                   precision    recall  f1-score   support\n",
      "\n",
      "    Cyberbullying       0.86      0.13      0.22      1675\n",
      "          Neutral       0.35      0.98      0.52      1668\n",
      "Not Cyberbullying       0.88      0.13      0.22      1782\n",
      "\n",
      "         accuracy                           0.40      5125\n",
      "        macro avg       0.70      0.41      0.32      5125\n",
      "     weighted avg       0.70      0.40      0.32      5125\n",
      "\n",
      "CART: 0.698283 (0.007905)\n",
      "0.7079024390243902\n",
      "[[1048  295  332]\n",
      " [ 192 1354  122]\n",
      " [ 322  234 1226]]\n",
      "                   precision    recall  f1-score   support\n",
      "\n",
      "    Cyberbullying       0.67      0.63      0.65      1675\n",
      "          Neutral       0.72      0.81      0.76      1668\n",
      "Not Cyberbullying       0.73      0.69      0.71      1782\n",
      "\n",
      "         accuracy                           0.71      5125\n",
      "        macro avg       0.71      0.71      0.71      5125\n",
      "     weighted avg       0.71      0.71      0.71      5125\n",
      "\n",
      "SVM: 0.355923 (0.000181)\n",
      "0.3477073170731707\n",
      "[[   0    0 1675]\n",
      " [   0    0 1668]\n",
      " [   0    0 1782]]\n",
      "                   precision    recall  f1-score   support\n",
      "\n",
      "    Cyberbullying       0.00      0.00      0.00      1675\n",
      "          Neutral       0.00      0.00      0.00      1668\n",
      "Not Cyberbullying       0.35      1.00      0.52      1782\n",
      "\n",
      "         accuracy                           0.35      5125\n",
      "        macro avg       0.12      0.33      0.17      5125\n",
      "     weighted avg       0.12      0.35      0.18      5125\n",
      "\n"
     ]
    }
   ],
   "source": [
    "# Spot Check Algorithms\n",
    "warnings.filterwarnings('ignore')\n",
    "models = []\n",
    "models.append(('LR', LogisticRegression(solver='liblinear', multi_class='ovr')))\n",
    "#models.append(('LDA', LinearDiscriminantAnalysis()))\n",
    "models.append(('KNN', KNeighborsClassifier()))\n",
    "models.append(('CART', DecisionTreeClassifier()))\n",
    "#models.append(('NB', GaussianNB()))\n",
    "models.append(('SVM', SVC(gamma='auto')))\n",
    "# evaluate each model in turn\n",
    "#pipeline = make_pipeline(TfidfVectorizer(),model)\n",
    "result = []\n",
    "results = []\n",
    "names = []\n",
    "for name, model in models:\n",
    " kfold = StratifiedKFold(n_splits=10, random_state=1, shuffle=True)\n",
    " cv_results = cross_val_score(make_pipeline(TfidfVectorizer(),model), X_train, Y_train, cv=kfold, scoring='accuracy')\n",
    " results.append(cv_results)\n",
    " names.append(name)\n",
    " result.append([name, cv_results.mean()])\n",
    " print('%s: %f (%f)' % (name, cv_results.mean(), cv_results.std()))\n",
    " pipeline = make_pipeline(TfidfVectorizer(),model)\n",
    " pipeline.fit(X_train, Y_train)\n",
    " predictions = pipeline.predict(X_validation)\n",
    " # Evaluate predictions\n",
    " print(accuracy_score(Y_validation, predictions))\n",
    " print(confusion_matrix(Y_validation, predictions))\n",
    " print(classification_report(Y_validation, predictions))"
   ]
  },
  {
   "cell_type": "code",
   "execution_count": 10,
   "id": "def4d94a",
   "metadata": {},
   "outputs": [
    {
     "data": {
      "image/png": "[encoded data removed]",
      "text/plain": [
       "<Figure size 720x432 with 1 Axes>"
      ]
     },
     "metadata": {
      "needs_background": "light"
     },
     "output_type": "display_data"
    }
   ],
   "source": [
    "all_scores = [score for scores in results for score in scores]\n",
    "all_labels = [name for name, scores in zip(names, results) for _ in scores]\n",
    "\n",
    "# Plotting the box plot\n",
    "plt.figure(figsize=(10, 6))\n",
    "sns.boxplot(x=all_labels, y=all_scores, boxprops=dict(facecolor='none', edgecolor='blue'))\n",
    "\n",
    "# Customize the plot\n",
    "plt.title('Cross-Validation Results for Each Model')\n",
    "plt.xlabel('Models')\n",
    "plt.ylabel('Cross-Validation Scores')\n",
    "\n",
    "plt.show()"
   ]
  }
 ],
 "metadata": {
  "kernelspec": {
   "display_name": "Python 3",
   "language": "python",
   "name": "python3"
  },
  "language_info": {
   "codemirror_mode": {
    "name": "ipython",
    "version": 3
   },
   "file_extension": ".py",
   "mimetype": "text/x-python",
   "name": "python",
   "nbconvert_exporter": "python",
   "pygments_lexer": "ipython3",
   "version": "3.8.8"
  }
 },
 "nbformat": 4,
 "nbformat_minor": 5
}
