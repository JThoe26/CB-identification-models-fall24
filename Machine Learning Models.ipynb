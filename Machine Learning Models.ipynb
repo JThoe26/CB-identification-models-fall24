{
 "cells": [
  {
   "cell_type": "markdown",
   "metadata": {
    "id": "7ZfI8DP-n4bj"
   },
   "source": [
    "# Machine Learning Models"
   ]
  },
  {
   "cell_type": "code",
   "execution_count": null,
   "metadata": {
    "colab": {
     "base_uri": "https://localhost:8080/",
     "height": 178
    },
    "id": "7RHpFJTYsQv7",
    "outputId": "202eb211-5e31-4f6b-f015-3a6f8a54b2fa"
   },
   "outputs": [
    {
     "data": {
      "text/html": [
       "<div>\n",
       "<style scoped>\n",
       "    .dataframe tbody tr th:only-of-type {\n",
       "        vertical-align: middle;\n",
       "    }\n",
       "\n",
       "    .dataframe tbody tr th {\n",
       "        vertical-align: top;\n",
       "    }\n",
       "\n",
       "    .dataframe thead th {\n",
       "        text-align: right;\n",
       "    }\n",
       "</style>\n",
       "<table border=\"1\" class=\"dataframe\">\n",
       "  <thead>\n",
       "    <tr style=\"text-align: right;\">\n",
       "      <th></th>\n",
       "      <th>count</th>\n",
       "    </tr>\n",
       "    <tr>\n",
       "      <th>Label</th>\n",
       "      <th></th>\n",
       "    </tr>\n",
       "  </thead>\n",
       "  <tbody>\n",
       "    <tr>\n",
       "      <th>Not Cyberbullying</th>\n",
       "      <td>17784</td>\n",
       "    </tr>\n",
       "    <tr>\n",
       "      <th>Cyberbullying</th>\n",
       "      <td>8150</td>\n",
       "    </tr>\n",
       "  </tbody>\n",
       "</table>\n",
       "</div><br><label><b>dtype:</b> int64</label>"
      ],
      "text/plain": [
       "Label\n",
       "Not Cyberbullying    17784\n",
       "Cyberbullying         8150\n",
       "Name: count, dtype: int64"
      ]
     },
     "execution_count": 1,
     "metadata": {},
     "output_type": "execute_result"
    }
   ],
   "source": [
    "# Load libraries\n",
    "import pandas as pd\n",
    "import seaborn as sns\n",
    "from pandas import read_csv\n",
    "from pandas.plotting import scatter_matrix\n",
    "from matplotlib import pyplot as plt\n",
    "from sklearn.model_selection import train_test_split\n",
    "from sklearn.model_selection import cross_val_score\n",
    "from sklearn.model_selection import StratifiedKFold\n",
    "from sklearn.metrics import classification_report\n",
    "from sklearn.metrics import confusion_matrix\n",
    "from sklearn.metrics import accuracy_score\n",
    "from sklearn.linear_model import LogisticRegression\n",
    "from sklearn.tree import DecisionTreeClassifier\n",
    "from sklearn.neighbors import KNeighborsClassifier\n",
    "from sklearn.discriminant_analysis import LinearDiscriminantAnalysis\n",
    "from sklearn.naive_bayes import GaussianNB\n",
    "from sklearn.svm import SVC\n",
    "from sklearn.ensemble import RandomForestClassifier\n",
    "from sklearn.preprocessing import StandardScaler, LabelEncoder\n",
    "from sklearn.feature_extraction.text import TfidfVectorizer\n",
    "from sklearn.pipeline import make_pipeline\n",
    "import warnings\n",
    "from sklearn.utils import resample\n",
    "warnings.filterwarnings('ignore')\n",
    "df = pd.read_csv('data/labeled_comments.csv')\n",
    "\n",
    "minority_class = df[df['Label'] == 'Cyberbullying']\n",
    "majority_class = df[df['Label'] == 'Not Cyberbullying']\n",
    "\n",
    "# Upsample the minority class\n",
    "minority_upsampled = resample(minority_class, replace=True, n_samples=len(majority_class), random_state=42)\n",
    "\n",
    "# Combine the upsampled minority class with the majority class\n",
    "balanced_data = pd.concat([majority_class, minority_upsampled])\n",
    "\n",
    "X = balanced_data[\"Comment\"].astype(str)\n",
    "y = balanced_data[\"Label\"].astype(str)\n",
    "X_train, X_validation, Y_train, Y_validation = train_test_split(X, y, test_size=0.3, random_state=1)\n",
    "df[\"Label\"].value_counts()"
   ]
  },
  {
   "cell_type": "markdown",
   "metadata": {
    "id": "B21Ar4Hxnkt-"
   },
   "source": [
    "### Support Vector Machine"
   ]
  },
  {
   "cell_type": "code",
   "execution_count": null,
   "metadata": {
    "colab": {
     "base_uri": "https://localhost:8080/"
    },
    "id": "jje4yyvHsak_",
    "outputId": "d8f25448-06d9-4d22-8c38-da3d9e8c6843"
   },
   "outputs": [
    {
     "name": "stdout",
     "output_type": "stream",
     "text": [
      "0.9445225377190516\n",
      "[[4982  292]\n",
      " [ 300 5097]]\n",
      "                   precision    recall  f1-score   support\n",
      "\n",
      "    Cyberbullying       0.94      0.94      0.94      5274\n",
      "Not Cyberbullying       0.95      0.94      0.95      5397\n",
      "\n",
      "         accuracy                           0.94     10671\n",
      "        macro avg       0.94      0.94      0.94     10671\n",
      "     weighted avg       0.94      0.94      0.94     10671\n",
      "\n",
      "266.0669438838959\n"
     ]
    }
   ],
   "source": [
    "# Make predictions on validation dataset\n",
    "import time\n",
    "start_time = time.time()\n",
    "pipeline = make_pipeline(TfidfVectorizer(), SVC(gamma=\"scale\"))\n",
    "pipeline.fit(X_train, Y_train)\n",
    "predictions = pipeline.predict(X_validation)\n",
    "# Evaluate predictions\n",
    "print(accuracy_score(Y_validation, predictions))\n",
    "print(confusion_matrix(Y_validation, predictions))\n",
    "print(classification_report(Y_validation, predictions))\n",
    "print(time.time()-start_time)"
   ]
  },
  {
   "cell_type": "markdown",
   "metadata": {
    "id": "sIDQ4sNnndVy"
   },
   "source": [
    "### K Nearest Neighbor (KNN)"
   ]
  },
  {
   "cell_type": "code",
   "execution_count": null,
   "metadata": {
    "colab": {
     "base_uri": "https://localhost:8080/"
    },
    "id": "dlGBuMFcseM6",
    "outputId": "90cd98c1-94e2-4360-f1bc-8ca2c96d3761"
   },
   "outputs": [
    {
     "name": "stdout",
     "output_type": "stream",
     "text": [
      "0.9123793458907319\n",
      "[[4468  806]\n",
      " [ 129 5268]]\n",
      "                   precision    recall  f1-score   support\n",
      "\n",
      "    Cyberbullying       0.97      0.85      0.91      5274\n",
      "Not Cyberbullying       0.87      0.98      0.92      5397\n",
      "\n",
      "         accuracy                           0.91     10671\n",
      "        macro avg       0.92      0.91      0.91     10671\n",
      "     weighted avg       0.92      0.91      0.91     10671\n",
      "\n"
     ]
    }
   ],
   "source": [
    "# Make predictions on validation dataset\n",
    "pipeline = make_pipeline(TfidfVectorizer(), KNeighborsClassifier(weights='distance', n_neighbors=5))\n",
    "pipeline.fit(X_train, Y_train)\n",
    "predictions = pipeline.predict(X_validation)\n",
    "# Evaluate predictions\n",
    "print(accuracy_score(Y_validation, predictions))\n",
    "print(confusion_matrix(Y_validation, predictions))\n",
    "print(classification_report(Y_validation, predictions))"
   ]
  },
  {
   "cell_type": "markdown",
   "metadata": {
    "id": "F_BiFDevnX1X"
   },
   "source": [
    "### Decision Tree Classification"
   ]
  },
  {
   "cell_type": "code",
   "execution_count": null,
   "metadata": {
    "colab": {
     "base_uri": "https://localhost:8080/"
    },
    "id": "V7Q4D5nNsgrq",
    "outputId": "57a22fa6-f68a-4c12-b938-122de95de7ac"
   },
   "outputs": [
    {
     "name": "stdout",
     "output_type": "stream",
     "text": [
      "0.7328272889138787\n",
      "[[3364 1910]\n",
      " [ 941 4456]]\n",
      "                   precision    recall  f1-score   support\n",
      "\n",
      "    Cyberbullying       0.78      0.64      0.70      5274\n",
      "Not Cyberbullying       0.70      0.83      0.76      5397\n",
      "\n",
      "         accuracy                           0.73     10671\n",
      "        macro avg       0.74      0.73      0.73     10671\n",
      "     weighted avg       0.74      0.73      0.73     10671\n",
      "\n"
     ]
    }
   ],
   "source": [
    "# Make predictions on validation dataset\n",
    "pipeline = make_pipeline(TfidfVectorizer(), DecisionTreeClassifier(criterion='gini', max_depth=30, min_samples_split=2))\n",
    "pipeline.fit(X_train, Y_train)\n",
    "predictions = pipeline.predict(X_validation)\n",
    "# Evaluate predictions\n",
    "print(accuracy_score(Y_validation, predictions))\n",
    "print(confusion_matrix(Y_validation, predictions))\n",
    "print(classification_report(Y_validation, predictions))"
   ]
  },
  {
   "cell_type": "markdown",
   "metadata": {
    "id": "8aqExob0nTWW"
   },
   "source": [
    "### Logistic Regression"
   ]
  },
  {
   "cell_type": "code",
   "execution_count": null,
   "metadata": {
    "colab": {
     "base_uri": "https://localhost:8080/"
    },
    "id": "XzWbTcF7si_H",
    "outputId": "afdf8582-c459-4bec-9f9d-c4bdce1530d7"
   },
   "outputs": [
    {
     "name": "stdout",
     "output_type": "stream",
     "text": [
      "0.8874519726361165\n",
      "[[4725  549]\n",
      " [ 652 4745]]\n",
      "                   precision    recall  f1-score   support\n",
      "\n",
      "    Cyberbullying       0.88      0.90      0.89      5274\n",
      "Not Cyberbullying       0.90      0.88      0.89      5397\n",
      "\n",
      "         accuracy                           0.89     10671\n",
      "        macro avg       0.89      0.89      0.89     10671\n",
      "     weighted avg       0.89      0.89      0.89     10671\n",
      "\n"
     ]
    }
   ],
   "source": [
    "# Make predictions on validation dataset\n",
    "pipeline = make_pipeline(TfidfVectorizer(), LogisticRegression(solver='saga', multi_class='auto', class_weight='balanced'))\n",
    "pipeline.fit(X_train, Y_train)\n",
    "predictions = pipeline.predict(X_validation)\n",
    "# Evaluate predictions\n",
    "print(accuracy_score(Y_validation, predictions))\n",
    "print(confusion_matrix(Y_validation, predictions))\n",
    "print(classification_report(Y_validation, predictions))"
   ]
  },
  {
   "cell_type": "markdown",
   "metadata": {
    "id": "sr5NHTBZnNaB"
   },
   "source": [
    "### Cross-Validaiton of models"
   ]
  },
  {
   "cell_type": "code",
   "execution_count": null,
   "metadata": {
    "colab": {
     "base_uri": "https://localhost:8080/"
    },
    "id": "y4jMAQHusln3",
    "outputId": "308f8a30-beb9-4c95-d7b1-7a3b667fa758"
   },
   "outputs": [
    {
     "name": "stdout",
     "output_type": "stream",
     "text": [
      "LR: 0.877737 (0.005033)\n",
      "0.8874519726361165\n",
      "[[4725  549]\n",
      " [ 652 4745]]\n",
      "                   precision    recall  f1-score   support\n",
      "\n",
      "    Cyberbullying       0.88      0.90      0.89      5274\n",
      "Not Cyberbullying       0.90      0.88      0.89      5397\n",
      "\n",
      "         accuracy                           0.89     10671\n",
      "        macro avg       0.89      0.89      0.89     10671\n",
      "     weighted avg       0.89      0.89      0.89     10671\n",
      "\n",
      "KNN: 0.902398 (0.005331)\n",
      "0.9105051073001593\n",
      "[[4490  784]\n",
      " [ 171 5226]]\n",
      "                   precision    recall  f1-score   support\n",
      "\n",
      "    Cyberbullying       0.96      0.85      0.90      5274\n",
      "Not Cyberbullying       0.87      0.97      0.92      5397\n",
      "\n",
      "         accuracy                           0.91     10671\n",
      "        macro avg       0.92      0.91      0.91     10671\n",
      "     weighted avg       0.92      0.91      0.91     10671\n",
      "\n",
      "CART: 0.735953 (0.015295)\n",
      "0.7334832724205791\n",
      "[[3361 1913]\n",
      " [ 931 4466]]\n",
      "                   precision    recall  f1-score   support\n",
      "\n",
      "    Cyberbullying       0.78      0.64      0.70      5274\n",
      "Not Cyberbullying       0.70      0.83      0.76      5397\n",
      "\n",
      "         accuracy                           0.73     10671\n",
      "        macro avg       0.74      0.73      0.73     10671\n",
      "     weighted avg       0.74      0.73      0.73     10671\n",
      "\n",
      "SVM: 0.934048 (0.004778)\n",
      "0.9445225377190516\n",
      "[[4982  292]\n",
      " [ 300 5097]]\n",
      "                   precision    recall  f1-score   support\n",
      "\n",
      "    Cyberbullying       0.94      0.94      0.94      5274\n",
      "Not Cyberbullying       0.95      0.94      0.95      5397\n",
      "\n",
      "         accuracy                           0.94     10671\n",
      "        macro avg       0.94      0.94      0.94     10671\n",
      "     weighted avg       0.94      0.94      0.94     10671\n",
      "\n"
     ]
    }
   ],
   "source": [
    "warnings.filterwarnings('ignore')\n",
    "models = []\n",
    "models.append(('LR', LogisticRegression(solver='saga', multi_class='auto', class_weight='balanced')))\n",
    "models.append(('KNN', KNeighborsClassifier(weights='distance', n_neighbors=2)))\n",
    "models.append(('CART', DecisionTreeClassifier(criterion='gini', max_depth=30, min_samples_split=2)))\n",
    "models.append(('SVM', SVC(gamma='scale')))\n",
    "# evaluate each model in turn\n",
    "result = []\n",
    "results = []\n",
    "names = []\n",
    "for name, model in models:\n",
    " kfold = StratifiedKFold(n_splits=10, random_state=1, shuffle=True)\n",
    " cv_results = cross_val_score(make_pipeline(TfidfVectorizer(), model), X_train, Y_train, cv=kfold, scoring='accuracy')\n",
    " results.append(cv_results)\n",
    " names.append(name)\n",
    " result.append([name, cv_results.mean()])\n",
    " print('%s: %f (%f)' % (name, cv_results.mean(), cv_results.std()))\n",
    " pipeline = make_pipeline(TfidfVectorizer(), model)\n",
    " pipeline.fit(X_train, Y_train)\n",
    " predictions = pipeline.predict(X_validation)\n",
    " # Evaluate predictions\n",
    " print(accuracy_score(Y_validation, predictions))\n",
    " print(confusion_matrix(Y_validation, predictions))\n",
    " print(classification_report(Y_validation, predictions))"
   ]
  },
  {
   "cell_type": "markdown",
   "metadata": {
    "id": "T3GdrkSynBrN"
   },
   "source": [
    "### Box Plot of models using Cross Validation"
   ]
  },
  {
   "cell_type": "code",
   "execution_count": null,
   "metadata": {
    "colab": {
     "base_uri": "https://localhost:8080/",
     "height": 564
    },
    "id": "8gyvqlL90bco",
    "outputId": "6044be16-84ba-444a-c4f3-b00fa0d15fe0"
   },
   "outputs": [
    {
     "data": {
      "image/png": "[encoded data removed]",
      "text/plain": [
       "<Figure size 1000x600 with 1 Axes>"
      ]
     },
     "metadata": {},
     "output_type": "display_data"
    }
   ],
   "source": [
    "all_scores = [score for scores in results for score in scores]\n",
    "all_labels = [name for name, scores in zip(names, results) for _ in scores]\n",
    "\n",
    "# Plotting the box plot\n",
    "plt.figure(figsize=(10, 6))\n",
    "sns.boxplot(x=all_labels, y=all_scores, boxprops=dict(facecolor='none', edgecolor='blue'))\n",
    "\n",
    "# Customize the plot\n",
    "plt.title('Cross-Validation Results for Each Model')\n",
    "plt.xlabel('Models')\n",
    "plt.ylabel('Cross-Validation Scores')\n",
    "\n",
    "plt.show()"
   ]
  }
 ],
 "metadata": {
  "colab": {
   "provenance": []
  },
  "kernelspec": {
   "display_name": "Python 3",
   "name": "python3"
  },
  "language_info": {
   "name": "python"
  }
 },
 "nbformat": 4,
 "nbformat_minor": 0
}
