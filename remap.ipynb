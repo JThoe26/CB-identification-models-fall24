{
 "cells": [
  {
   "cell_type": "markdown",
   "metadata": {},
   "source": [
    "# Remaping & Analysis"
   ]
  },
  {
   "cell_type": "code",
   "execution_count": 2,
   "metadata": {},
   "outputs": [],
   "source": [
    "import pandas as pd"
   ]
  },
  {
   "cell_type": "markdown",
   "metadata": {},
   "source": [
    "### Remaping for BERT dataset"
   ]
  },
  {
   "cell_type": "code",
   "execution_count": 3,
   "metadata": {},
   "outputs": [
    {
     "data": {
      "text/html": [
       "<div>\n",
       "<style scoped>\n",
       "    .dataframe tbody tr th:only-of-type {\n",
       "        vertical-align: middle;\n",
       "    }\n",
       "\n",
       "    .dataframe tbody tr th {\n",
       "        vertical-align: top;\n",
       "    }\n",
       "\n",
       "    .dataframe thead th {\n",
       "        text-align: right;\n",
       "    }\n",
       "</style>\n",
       "<table border=\"1\" class=\"dataframe\">\n",
       "  <thead>\n",
       "    <tr style=\"text-align: right;\">\n",
       "      <th></th>\n",
       "      <th>Comment</th>\n",
       "      <th>Label</th>\n",
       "      <th>Predicted_Label</th>\n",
       "    </tr>\n",
       "  </thead>\n",
       "  <tbody>\n",
       "    <tr>\n",
       "      <th>0</th>\n",
       "      <td>they never told me I couldnt sing what in the ...</td>\n",
       "      <td>Not Cyberbullying</td>\n",
       "      <td>Not Cyberbullying</td>\n",
       "    </tr>\n",
       "    <tr>\n",
       "      <th>1</th>\n",
       "      <td>THEY DIDNT SAY I COULDNT SIIINGGGGG kat from v...</td>\n",
       "      <td>Not Cyberbullying</td>\n",
       "      <td>Not Cyberbullying</td>\n",
       "    </tr>\n",
       "    <tr>\n",
       "      <th>2</th>\n",
       "      <td>Youre very brave for having the comment sectio...</td>\n",
       "      <td>Not Cyberbullying</td>\n",
       "      <td>Not Cyberbullying</td>\n",
       "    </tr>\n",
       "    <tr>\n",
       "      <th>3</th>\n",
       "      <td>i didnt know what her response would be but i ...</td>\n",
       "      <td>Not Cyberbullying</td>\n",
       "      <td>Not Cyberbullying</td>\n",
       "    </tr>\n",
       "    <tr>\n",
       "      <th>4</th>\n",
       "      <td>This is so insulting to the victims</td>\n",
       "      <td>Cyberbullying</td>\n",
       "      <td>Cyberbullying</td>\n",
       "    </tr>\n",
       "  </tbody>\n",
       "</table>\n",
       "</div>"
      ],
      "text/plain": [
       "                                             Comment              Label  \\\n",
       "0  they never told me I couldnt sing what in the ...  Not Cyberbullying   \n",
       "1  THEY DIDNT SAY I COULDNT SIIINGGGGG kat from v...  Not Cyberbullying   \n",
       "2  Youre very brave for having the comment sectio...  Not Cyberbullying   \n",
       "3  i didnt know what her response would be but i ...  Not Cyberbullying   \n",
       "4                This is so insulting to the victims      Cyberbullying   \n",
       "\n",
       "     Predicted_Label  \n",
       "0  Not Cyberbullying  \n",
       "1  Not Cyberbullying  \n",
       "2  Not Cyberbullying  \n",
       "3  Not Cyberbullying  \n",
       "4      Cyberbullying  "
      ]
     },
     "execution_count": 3,
     "metadata": {},
     "output_type": "execute_result"
    }
   ],
   "source": [
    "df = pd.read_csv(\"bert_prediction.csv\")\n",
    "df['Label'] = df['Label'].map({0: \"Not Cyberbullying\", 1: \"Cyberbullying\"})\n",
    "df.head()"
   ]
  },
  {
   "cell_type": "code",
   "execution_count": 4,
   "metadata": {},
   "outputs": [
    {
     "data": {
      "text/html": [
       "<div>\n",
       "<style scoped>\n",
       "    .dataframe tbody tr th:only-of-type {\n",
       "        vertical-align: middle;\n",
       "    }\n",
       "\n",
       "    .dataframe tbody tr th {\n",
       "        vertical-align: top;\n",
       "    }\n",
       "\n",
       "    .dataframe thead th {\n",
       "        text-align: right;\n",
       "    }\n",
       "</style>\n",
       "<table border=\"1\" class=\"dataframe\">\n",
       "  <thead>\n",
       "    <tr style=\"text-align: right;\">\n",
       "      <th></th>\n",
       "      <th>Comment</th>\n",
       "      <th>Label</th>\n",
       "      <th>Predicted_Label</th>\n",
       "    </tr>\n",
       "  </thead>\n",
       "  <tbody>\n",
       "    <tr>\n",
       "      <th>count</th>\n",
       "      <td>25621</td>\n",
       "      <td>25934</td>\n",
       "      <td>25934</td>\n",
       "    </tr>\n",
       "    <tr>\n",
       "      <th>unique</th>\n",
       "      <td>21591</td>\n",
       "      <td>2</td>\n",
       "      <td>2</td>\n",
       "    </tr>\n",
       "    <tr>\n",
       "      <th>top</th>\n",
       "      <td>Two steps ahead</td>\n",
       "      <td>Not Cyberbullying</td>\n",
       "      <td>Not Cyberbullying</td>\n",
       "    </tr>\n",
       "    <tr>\n",
       "      <th>freq</th>\n",
       "      <td>32</td>\n",
       "      <td>17784</td>\n",
       "      <td>17701</td>\n",
       "    </tr>\n",
       "  </tbody>\n",
       "</table>\n",
       "</div>"
      ],
      "text/plain": [
       "                Comment              Label    Predicted_Label\n",
       "count             25621              25934              25934\n",
       "unique            21591                  2                  2\n",
       "top     Two steps ahead  Not Cyberbullying  Not Cyberbullying\n",
       "freq                 32              17784              17701"
      ]
     },
     "execution_count": 4,
     "metadata": {},
     "output_type": "execute_result"
    }
   ],
   "source": [
    "df.describe()"
   ]
  },
  {
   "cell_type": "code",
   "execution_count": null,
   "metadata": {},
   "outputs": [
    {
     "name": "stdout",
     "output_type": "stream",
     "text": [
      "0.01854708105190098\n",
      "25934\n"
     ]
    }
   ],
   "source": [
    "count = (df['Label'] != df['Predicted_Label']).sum()\n",
    "# Percentage of lines that are different from the label column\n",
    "print(count/len(df))\n",
    "# Total lines\n",
    "print(len(df))"
   ]
  },
  {
   "cell_type": "markdown",
   "metadata": {},
   "source": [
    "### BERT Confusion Matrix"
   ]
  },
  {
   "cell_type": "code",
   "execution_count": 24,
   "metadata": {},
   "outputs": [
    {
     "data": {
      "image/png": "[encoded data removed]",
      "text/plain": [
       "<Figure size 576x432 with 1 Axes>"
      ]
     },
     "metadata": {
      "needs_background": "light"
     },
     "output_type": "display_data"
    }
   ],
   "source": [
    "import matplotlib.pyplot as plt\n",
    "import seaborn as sns\n",
    "import numpy as np\n",
    "import pandas as pd\n",
    "\n",
    "\n",
    "# Assuming you already have these values\n",
    "TP = 3454  # True Positives\n",
    "FN = 141  # False Negatives\n",
    "FP = 112  # False Positives\n",
    "TN = 1480 # True Negatives\n",
    "\n",
    "# Create a confusion matrix\n",
    "confusion_matrix = np.array([[TP, FN], [FP, TN]])\n",
    "\n",
    "# Create a DataFrame for better visualization\n",
    "df_cm = pd.DataFrame(confusion_matrix, index=[\"Actual Positive\", \"Actual Negative\"], columns=[\"Predicted Positive\", \"Predicted Negative\"])\n",
    "\n",
    "# Plotting the confusion matrix\n",
    "plt.figure(figsize=(8, 6))\n",
    "sns.heatmap(df_cm, annot=True, fmt=\"d\", cmap=\"Blues\", cbar=False, annot_kws={\"size\": 25})\n",
    "plt.title(\"BERT Confusion Matrix\",fontsize=25)\n",
    "plt.ylabel(\"Actual\")\n",
    "plt.xlabel(\"Predicted\")\n",
    "plt.show()\n"
   ]
  },
  {
   "cell_type": "markdown",
   "metadata": {},
   "source": [
    "### BIGRU Confusion Matrix"
   ]
  },
  {
   "cell_type": "code",
   "execution_count": 25,
   "metadata": {},
   "outputs": [
    {
     "data": {
      "image/png": "[encoded data removed]",
      "text/plain": [
       "<Figure size 576x432 with 1 Axes>"
      ]
     },
     "metadata": {
      "needs_background": "light"
     },
     "output_type": "display_data"
    }
   ],
   "source": [
    "# Assuming you already have these values\n",
    "TP = 3401  # True Positives\n",
    "FN = 119  # False Negatives\n",
    "FP = 340  # False Positives\n",
    "TN = 3254 # True Negatives\n",
    "\n",
    "# Create a confusion matrix\n",
    "confusion_matrix = np.array([[TP, FN], [FP, TN]])\n",
    "\n",
    "# Create a DataFrame for better visualization\n",
    "df_cm = pd.DataFrame(confusion_matrix, index=[\"Actual Positive\", \"Actual Negative\"], columns=[\"Predicted Positive\", \"Predicted Negative\"])\n",
    "\n",
    "# Plotting the confusion matrix\n",
    "plt.figure(figsize=(8, 6))\n",
    "sns.heatmap(df_cm, annot=True, fmt=\"d\", cmap=\"Greens\", cbar=False, annot_kws={\"size\": 25})\n",
    "plt.title(\"BIGRU Confusion Matrix\", fontsize=25)\n",
    "plt.ylabel(\"Actual\")\n",
    "plt.xlabel(\"Predicted\")\n",
    "plt.show()"
   ]
  }
 ],
 "metadata": {
  "kernelspec": {
   "display_name": "base",
   "language": "python",
   "name": "python3"
  },
  "language_info": {
   "codemirror_mode": {
    "name": "ipython",
    "version": 3
   },
   "file_extension": ".py",
   "mimetype": "text/x-python",
   "name": "python",
   "nbconvert_exporter": "python",
   "pygments_lexer": "ipython3",
   "version": "3.8.8"
  }
 },
 "nbformat": 4,
 "nbformat_minor": 2
}
